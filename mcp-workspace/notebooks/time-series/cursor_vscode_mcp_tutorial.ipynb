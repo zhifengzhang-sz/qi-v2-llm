{
 "cells": [
  {
   "cell_type": "markdown",
   "id": "037487f1",
   "metadata": {},
   "source": [
    "# Configuring Cursor with Alternative AI Models\n",
    "\n",
    "This tutorial demonstrates how to configure Cursor to use alternative AI models like DeepSeek R1 for your development environment."
   ]
  },
  {
   "cell_type": "markdown",
   "id": "707f59f7",
   "metadata": {},
   "source": [
    "## 1. Understanding Cursor's Model Configuration\n",
    "\n",
    "Cursor is built on VS Code and allows for flexible AI model configuration. By default, it uses proprietary models, but you can configure it to use alternatives like DeepSeek R1, Claude, or open-source models running locally."
   ]
  },
  {
   "cell_type": "markdown",
   "id": "fb1ff18b",
   "metadata": {},
   "source": [
    "## 2. Model Configuration Options\n",
    "\n",
    "Cursor supports several model providers:\n",
    "\n",
    "1. **OpenAI models** (GPT-4, GPT-3.5)\n",
    "2. **Anthropic models** (Claude)\n",
    "3. **DeepSeek models** (DeepSeek R1, DeepSeek Coder)\n",
    "4. **Local models** (via Ollama or other local endpoints)\n",
    "5. **Custom API endpoints**\n",
    "\n",
    "Each provider has different capabilities, pricing, and configuration requirements."
   ]
  },
  {
   "cell_type": "markdown",
   "id": "d9aaf1cc",
   "metadata": {},
   "source": [
    "## 3. Detailed Setup for DeepSeek R1\n",
    "\n",
    "DeepSeek R1 is a powerful model focused on coding tasks. Here's how to configure it in Cursor:"
   ]
  },
  {
   "cell_type": "markdown",
   "id": "3a8b593e",
   "metadata": {},
   "source": [
    "### Step 1: Get DeepSeek API Access\n",
    "\n",
    "1. Visit the DeepSeek developer portal at https://platform.deepseek.com\n",
    "2. Create a developer account if you don't have one\n",
    "3. Navigate to API Keys section\n",
    "4. Generate a new API key\n",
    "5. Copy your API key (you'll need it for Cursor configuration)"
   ]
  },
  {
   "cell_type": "markdown",
   "id": "cf47d97c",
   "metadata": {},
   "source": [
    "### Step 2: Configure Cursor Settings\n",
    "\n",
    "1. In Cursor, open Settings (File > Preferences > Settings or Ctrl+,)\n",
    "2. Navigate to Extensions > Cursor\n",
    "3. Find the AI Model Configuration section\n",
    "4. Click on \"Edit in settings.json\"\n",
    "\n",
    "Add the following configuration (adjust as needed):"
   ]
  },
  {
   "cell_type": "code",
   "execution_count": null,
   "id": "0c3080ae",
   "metadata": {},
   "outputs": [],
   "source": [
    "// Example settings.json snippet for DeepSeek R1 configuration\n",
    "{\n",
    "  \"cursor.modelProvider\": \"custom\",\n",
    "  \"cursor.customProvider\": {\n",
    "    \"name\": \"DeepSeek\",\n",
    "    \"model\": \"deepseek-coder-7b-instruct\",\n",
    "    \"apiBase\": \"https://api.deepseek.com/v1\",\n",
    "    \"apiKey\": \"YOUR_DEEPSEEK_API_KEY_HERE\",\n",
    "    \"completionOptions\": {\n",
    "      \"temperature\": 0.2,\n",
    "      \"top_p\": 0.95,\n",
    "      \"max_tokens\": 4000\n",
    "    }\n",
    "  }\n",
    "}"
   ]
  },
  {
   "cell_type": "markdown",
   "id": "a6459366",
   "metadata": {},
   "source": [
    "### Step 3: Verify Configuration\n",
    "\n",
    "To verify that Cursor is using DeepSeek R1:\n",
    "\n",
    "1. Open the Command Palette (Ctrl+K)\n",
    "2. Type: \"What model are you currently using?\"\n",
    "3. The response should indicate DeepSeek R1\n",
    "\n",
    "Additionally, check the status bar at the bottom of the Cursor window - it should show the model name."
   ]
  },
  {
   "cell_type": "markdown",
   "id": "19cbc949",
   "metadata": {},
   "source": [
    "## 4. Alternative: Using Local Models with Ollama\n",
    "\n",
    "If you prefer to use locally hosted models for privacy or cost reasons, you can configure Cursor to use Ollama:"
   ]
  },
  {
   "cell_type": "markdown",
   "id": "76913b94",
   "metadata": {},
   "source": [
    "### Step 1: Set Up Ollama\n",
    "\n",
    "First, install Ollama on your host machine (not in the devcontainer):"
   ]
  },
  {
   "cell_type": "code",
   "execution_count": null,
   "id": "6277f797",
   "metadata": {},
   "outputs": [],
   "source": [
    "# Install Ollama (run this on your host machine, not in the container)\n",
    "curl -fsSL https://ollama.com/install.sh | sh"
   ]
  },
  {
   "cell_type": "markdown",
   "id": "22a62399",
   "metadata": {},
   "source": [
    "### Step 2: Pull and Run a Model\n",
    "\n",
    "Pull a coding-focused model like CodeLlama:"
   ]
  },
  {
   "cell_type": "code",
   "execution_count": null,
   "id": "6068d9af",
   "metadata": {},
   "outputs": [],
   "source": [
    "# Pull CodeLlama model (run on host)\n",
    "ollama pull codellama:7b"
   ]
  },
  {
   "cell_type": "markdown",
   "id": "a7bb73a4",
   "metadata": {},
   "source": [
    "### Step 3: Configure Cursor to Use Ollama\n",
    "\n",
    "In your Cursor settings.json, add:"
   ]
  },
  {
   "cell_type": "code",
   "execution_count": null,
   "id": "0713d52f",
   "metadata": {},
   "outputs": [],
   "source": [
    "// Example settings.json snippet for Ollama configuration\n",
    "{\n",
    "  \"cursor.modelProvider\": \"custom\",\n",
    "  \"cursor.customProvider\": {\n",
    "    \"name\": \"Ollama\",\n",
    "    \"model\": \"codellama:7b\",\n",
    "    \"apiBase\": \"http://localhost:11434/api\",\n",
    "    \"completionOptions\": {\n",
    "      \"temperature\": 0.2,\n",
    "      \"top_p\": 0.95,\n",
    "      \"max_tokens\": 4000\n",
    "    }\n",
    "  }\n",
    "}"
   ]
  },
  {
   "cell_type": "markdown",
   "id": "6c3a534b",
   "metadata": {},
   "source": [
    "## 5. Testing Your Model Configuration\n",
    "\n",
    "Let's test the configured model with some common coding tasks to verify it's working as expected:"
   ]
  },
  {
   "cell_type": "markdown",
   "id": "6d5edba8",
   "metadata": {},
   "source": [
    "### Test 1: Simple Code Generation\n",
    "\n",
    "In a Python file, type:\n",
    "```python\n",
    "# Function to calculate the Fibonacci sequence recursively with memoization\n",
    "```\n",
    "\n",
    "Press Ctrl+K and observe the model's response."
   ]
  },
  {
   "cell_type": "markdown",
   "id": "830e5b68",
   "metadata": {},
   "source": [
    "### Test 2: Code Explanation\n",
    "\n",
    "Select a complex piece of code and press Ctrl+Shift+E to get an explanation from your configured model."
   ]
  },
  {
   "cell_type": "markdown",
   "id": "42267f79",
   "metadata": {},
   "source": [
    "### Test 3: Debugging Help\n",
    "\n",
    "Type a comment explaining a bug you're experiencing and press Ctrl+K."
   ]
  },
  {
   "cell_type": "markdown",
   "id": "a9058b8d",
   "metadata": {},
   "source": [
    "## 6. Configuring Multiple Models and Switching Between Them\n",
    "\n",
    "You can configure multiple models and switch between them based on your needs:"
   ]
  },
  {
   "cell_type": "code",
   "execution_count": null,
   "id": "33d39ee6",
   "metadata": {},
   "outputs": [],
   "source": [
    "// Example multi-model configuration\n",
    "{\n",
    "  \"cursor.modelProviders\": [\n",
    "    {\n",
    "      \"name\": \"DeepSeek\",\n",
    "      \"model\": \"deepseek-coder-7b-instruct\",\n",
    "      \"apiBase\": \"https://api.deepseek.com/v1\",\n",
    "      \"apiKey\": \"YOUR_DEEPSEEK_API_KEY\"\n",
    "    },\n",
    "    {\n",
    "      \"name\": \"Local\",\n",
    "      \"model\": \"codellama:7b\",\n",
    "      \"apiBase\": \"http://localhost:11434/api\"\n",
    "    }\n",
    "  ],\n",
    "  \"cursor.activeModelProvider\": \"DeepSeek\"\n",
    "}"
   ]
  },
  {
   "cell_type": "markdown",
   "id": "d7c3ab98",
   "metadata": {},
   "source": [
    "To switch between models, click on the model name in the status bar or change the `cursor.activeModelProvider` setting."
   ]
  },
  {
   "cell_type": "markdown",
   "id": "5e417b1c",
   "metadata": {},
   "source": [
    "## 7. Troubleshooting Model Configuration\n",
    "\n",
    "If you encounter issues with your model configuration, try these steps:\n",
    "\n",
    "1. **Check API Key**: Ensure your API key is correct and has sufficient permissions\n",
    "2. **Verify Endpoint**: Make sure the API base URL is correct\n",
    "3. **Check Network**: Ensure your container can access the API endpoint\n",
    "4. **Inspect Logs**: Open the Developer Tools (Help > Toggle Developer Tools) and check the Console for errors\n",
    "5. **Restart Cursor**: Sometimes a simple restart can resolve configuration issues"
   ]
  },
  {
   "cell_type": "markdown",
   "id": "a07a7e0f",
   "metadata": {},
   "source": [
    "## 8. Performance Optimization for DeepSeek R1\n",
    "\n",
    "To get the best performance from DeepSeek R1, consider these settings adjustments:"
   ]
  },
  {
   "cell_type": "code",
   "execution_count": null,
   "id": "24fe012d",
   "metadata": {},
   "outputs": [],
   "source": [
    "// Performance-optimized settings for DeepSeek R1\n",
    "{\n",
    "  \"cursor.customProvider\": {\n",
    "    \"name\": \"DeepSeek\",\n",
    "    \"model\": \"deepseek-coder-7b-instruct\",\n",
    "    \"apiBase\": \"https://api.deepseek.com/v1\",\n",
    "    \"apiKey\": \"YOUR_DEEPSEEK_API_KEY_HERE\",\n",
    "    \"completionOptions\": {\n",
    "      \"temperature\": 0.1,        // Lower for more deterministic outputs\n",
    "      \"top_p\": 0.95,\n",
    "      \"max_tokens\": 4000,\n",
    "      \"frequency_penalty\": 0.0,\n",
    "      \"presence_penalty\": 0.0\n",
    "    }\n",
    "  }\n",
    "}"
   ]
  },
  {
   "cell_type": "markdown",
   "id": "f8e6b055",
   "metadata": {},
   "source": [
    "## 9. Conclusion\n",
    "\n",
    "You've now learned how to configure Cursor to use alternative AI models like DeepSeek R1. This gives you more flexibility and control over your AI-assisted development environment, allowing you to choose models based on your specific needs, privacy requirements, and performance considerations.\n",
    "\n",
    "Remember that different models have different strengths - some may be better at certain programming languages or tasks than others. Experiment with different models to find the best fit for your workflow."
   ]
  }
 ],
 "metadata": {
  "kernelspec": {
   "display_name": "Python 3",
   "language": "python",
   "name": "python3"
  },
  "language_info": {
   "name": "python",
   "version": "3.12.7"
  }
 },
 "nbformat": 4,
 "nbformat_minor": 5
}
