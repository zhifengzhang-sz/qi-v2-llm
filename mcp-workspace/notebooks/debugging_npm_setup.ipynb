{
 "cells": [
  {
   "cell_type": "markdown",
   "id": "083f81d0",
   "metadata": {},
   "source": [
    "# Debugging `npm run setup` and Docker Build Issues\n",
    "\n",
    "This notebook provides guidance on understanding and troubleshooting issues with the `npm run setup` command and related Docker build processes in the QI v2 LLM project."
   ]
  },
  {
   "cell_type": "markdown",
   "id": "145a85bc",
   "metadata": {},
   "source": [
    "## Overview of `npm run setup`\n",
    "\n",
    "The `npm run setup` command is a crucial step in initializing the development environment for the QI v2 LLM project. This command performs several important tasks:\n",
    "\n",
    "- Installs required dependencies\n",
    "- Builds Docker containers\n",
    "- Configures the development environment\n",
    "- Prepares the project for development work\n",
    "\n",
    "The setup process is defined in the `package.json` file, typically running a series of scripts that automate the environment setup process."
   ]
  },
  {
   "cell_type": "code",
   "execution_count": null,
   "id": "3c569508",
   "metadata": {
    "vscode": {
     "languageId": "bash"
    }
   },
   "outputs": [],
   "source": [
    "# Example of how to run the setup command\n",
    "npm run setup"
   ]
  },
  {
   "cell_type": "markdown",
   "id": "bfdaff3f",
   "metadata": {},
   "source": [
    "### What happens during setup?\n",
    "\n",
    "When you run `npm run setup`, the following typically occurs:\n",
    "\n",
    "1. Dependencies are checked and installed\n",
    "2. Docker images are built using Dockerfiles\n",
    "3. Configuration files may be generated\n",
    "4. Environment variables may be set\n",
    "5. Initial database migrations or seed data may be created\n",
    "\n",
    "Understanding this process helps when troubleshooting setup issues."
   ]
  },
  {
   "cell_type": "markdown",
   "id": "a0e0b136",
   "metadata": {},
   "source": [
    "## Understanding the Docker Build Process\n",
    "\n",
    "Docker builds in this project use a multi-stage approach to create optimized containers. Let's explore the key components of this process:\n",
    "\n",
    "### Dockerfiles\n",
    "\n",
    "Dockerfiles define the steps needed to create a Docker image. They specify:\n",
    "- Base images\n",
    "- Dependencies to install\n",
    "- Files to copy into the container\n",
    "- Commands to run\n",
    "- Environment variables\n",
    "- Exposed ports\n",
    "\n",
    "### Multi-stage Builds\n",
    "\n",
    "Multi-stage builds allow the use of multiple FROM statements in a Dockerfile. Each FROM instruction starts a new stage of the build. This helps to:\n",
    "- Keep final images small\n",
    "- Separate build-time dependencies from runtime dependencies\n",
    "- Organize the build process into logical stages"
   ]
  },
  {
   "cell_type": "code",
   "execution_count": null,
   "id": "5ed9fe76",
   "metadata": {
    "vscode": {
     "languageId": "bash"
    }
   },
   "outputs": [],
   "source": [
    "# Command to view Docker images\n",
    "docker images\n",
    "\n",
    "# Command to view Docker build history\n",
    "docker history image_name"
   ]
  },
  {
   "cell_type": "markdown",
   "id": "c6235d11",
   "metadata": {},
   "source": [
    "### Inspecting the Dockerfile\n",
    "\n",
    "Let's look at a simplified version of what our Dockerfile might contain:"
   ]
  },
  {
   "cell_type": "code",
   "execution_count": null,
   "id": "444f50ca",
   "metadata": {},
   "outputs": [],
   "source": [
    "# Display the contents of the Dockerfile\n",
    "import os\n",
    "\n",
    "dockerfile_path = \"/home/zzhang/dev/qi/github/qi-v2-llm/Dockerfile\"\n",
    "if os.path.exists(dockerfile_path):\n",
    "    with open(dockerfile_path, 'r') as file:\n",
    "        print(file.read())\n",
    "else:\n",
    "    print(\"Dockerfile not found at the expected location.\")"
   ]
  },
  {
   "cell_type": "markdown",
   "id": "54726624",
   "metadata": {},
   "source": [
    "## Analyzing the Error Logs\n",
    "\n",
    "When Docker builds fail, the error logs provide crucial information to diagnose the issue. Common problems include:\n",
    "\n",
    "1. Network timeouts during package downloads\n",
    "2. Missing dependencies\n",
    "3. Incompatible versions of packages\n",
    "4. Resource limitations (memory, disk space)\n",
    "5. Permission issues\n",
    "\n",
    "Let's look at how to analyze these logs effectively:"
   ]
  },
  {
   "cell_type": "code",
   "execution_count": null,
   "id": "862bdb3b",
   "metadata": {},
   "outputs": [],
   "source": [
    "# Function to parse Docker build logs and identify common errors\n",
    "def analyze_docker_logs(log_content):\n",
    "    common_issues = {\n",
    "        'network': ['network error', 'timeout', 'connection refused', 'could not resolve'],\n",
    "        'dependency': ['not found', 'no such package', 'missing dependency'],\n",
    "        'version': ['version conflict', 'incompatible', 'requires version'],\n",
    "        'resource': ['no space left', 'out of memory', 'killed'],\n",
    "        'permission': ['permission denied', 'access denied']\n",
    "    }\n",
    "    \n",
    "    issues_found = {category: [] for category in common_issues}\n",
    "    \n",
    "    for line in log_content.split('\\n'):\n",
    "        for category, keywords in common_issues.items():\n",
    "            for keyword in keywords:\n",
    "                if keyword.lower() in line.lower():\n",
    "                    issues_found[category].append(line.strip())\n",
    "                    break\n",
    "    \n",
    "    return issues_found\n",
    "\n",
    "# Example usage\n",
    "sample_log = \"\"\"\n",
    "#6 [internal] load build definition from Dockerfile\n",
    "#6 transferring dockerfile: 36B done\n",
    "#7 ERROR: failed to solve: process \"/bin/sh -c pip install -r requirements.txt\" did not complete successfully: exit code: 1\n",
    "#7   398.9 ERROR: Could not install packages due to an OSError: [Errno 104] Connection reset by peer\n",
    "#7   399.0     It appears you don't have a complete pip download cache directory locally or pip's cache is corrupted.\n",
    "#7   399.0         You need to fix pip's cache or run pip with --no-cache-dir.\n",
    "\"\"\"\n",
    "\n",
    "analysis = analyze_docker_logs(sample_log)\n",
    "for category, lines in analysis.items():\n",
    "    if lines:\n",
    "        print(f\"\\n{category.upper()} ISSUES:\")\n",
    "        for line in lines:\n",
    "            print(f\"  - {line}\")"
   ]
  },
  {
   "cell_type": "markdown",
   "id": "0294f539",
   "metadata": {},
   "source": [
    "### Common Error Patterns\n",
    "\n",
    "1. **PIP Download Errors**:\n",
    "   ```\n",
    "   ERROR: Could not install packages due to an OSError: [Errno 104] Connection reset by peer\n",
    "   ```\n",
    "   This indicates network instability during package download.\n",
    "\n",
    "2. **Package Build Failures**:\n",
    "   ```\n",
    "   error: command 'gcc' failed with exit status 1\n",
    "   ```\n",
    "   This suggests missing build dependencies for a Python package.\n",
    "\n",
    "3. **Memory Issues**:\n",
    "   ```\n",
    "   Killed\n",
    "   ```\n",
    "   A simple \"Killed\" message often means the process ran out of memory.\n",
    "\n",
    "4. **Disk Space Issues**:\n",
    "   ```\n",
    "   no space left on device\n",
    "   ```\n",
    "   This clearly indicates running out of disk space during the build."
   ]
  },
  {
   "cell_type": "markdown",
   "id": "23146c86",
   "metadata": {},
   "source": [
    "## Retrying the Installation with Resumption\n",
    "\n",
    "When package installation fails due to network issues, using pip's `--resume-retries` option can help resume interrupted downloads. This is particularly useful for large packages or unstable connections.\n",
    "\n",
    "### Steps to Retry Installation"
   ]
  },
  {
   "cell_type": "code",
   "execution_count": null,
   "id": "59710b9d",
   "metadata": {
    "vscode": {
     "languageId": "bash"
    }
   },
   "outputs": [],
   "source": [
    "# Example of using the --resume-retries option with pip\n",
    "pip install -r requirements.txt --resume-retries 10"
   ]
  },
  {
   "cell_type": "markdown",
   "id": "913b2d2c",
   "metadata": {},
   "source": [
    "### Modifying the Dockerfile\n",
    "\n",
    "To incorporate better retry handling in your Docker builds, you can modify the Dockerfile to use these options:"
   ]
  },
  {
   "cell_type": "code",
   "execution_count": null,
   "id": "b2e16bd7",
   "metadata": {},
   "outputs": [],
   "source": [
    "# Example of a Dockerfile snippet that incorporates retry mechanisms\n",
    "dockerfile_snippet = \"\"\"\n",
    "# Use a base image\n",
    "FROM python:3.9\n",
    "\n",
    "# Set working directory\n",
    "WORKDIR /app\n",
    "\n",
    "# Copy requirements file\n",
    "COPY requirements.txt .\n",
    "\n",
    "# Install Python dependencies with retry mechanism\n",
    "RUN pip install --no-cache-dir --retries 5 --timeout 100 -r requirements.txt || \\\\\n",
    "    pip install --no-cache-dir --retries 10 --timeout 200 -r requirements.txt\n",
    "\n",
    "# Copy application code\n",
    "COPY . .\n",
    "\n",
    "# Command to run the application\n",
    "CMD [\"python\", \"app.py\"]\n",
    "\"\"\"\n",
    "\n",
    "print(dockerfile_snippet)"
   ]
  },
  {
   "cell_type": "markdown",
   "id": "40a76969",
   "metadata": {},
   "source": [
    "### Other Strategies for Handling Installation Issues\n",
    "\n",
    "1. **Network Timeout Settings**: Increase timeout values for package managers\n",
    "2. **Mirror Repositories**: Use local or more reliable mirrors for package downloads\n",
    "3. **Progressive Installation**: Install packages in smaller batches\n",
    "4. **Caching**: Implement proper caching in multi-stage Docker builds\n",
    "5. **Pre-downloading Dependencies**: Download dependencies before building the Docker image"
   ]
  },
  {
   "cell_type": "code",
   "execution_count": null,
   "id": "e71db14e",
   "metadata": {
    "vscode": {
     "languageId": "bash"
    }
   },
   "outputs": [],
   "source": [
    "# Example of using a mirror repository with pip\n",
    "pip install -r requirements.txt --index-url https://pypi.tuna.tsinghua.edu.cn/simple\n",
    "\n",
    "# Example of progressive installation\n",
    "cat requirements.txt | xargs -n 1 pip install"
   ]
  },
  {
   "cell_type": "markdown",
   "id": "9aa8f6eb",
   "metadata": {},
   "source": [
    "## Testing the Environment\n",
    "\n",
    "After successfully completing the setup process, it's important to verify that the environment is correctly configured. This section demonstrates how to test various aspects of the development environment."
   ]
  },
  {
   "cell_type": "code",
   "execution_count": null,
   "id": "0b972c75",
   "metadata": {
    "vscode": {
     "languageId": "bash"
    }
   },
   "outputs": [],
   "source": [
    "# Check Docker container status\n",
    "docker ps\n",
    "\n",
    "# Check if the application containers are running\n",
    "docker-compose ps"
   ]
  },
  {
   "cell_type": "code",
   "execution_count": null,
   "id": "1200f417",
   "metadata": {},
   "outputs": [],
   "source": [
    "# Simple Python script to verify the environment\n",
    "import sys\n",
    "import platform\n",
    "import subprocess\n",
    "\n",
    "def check_environment():\n",
    "    results = {\n",
    "        \"Python Version\": sys.version,\n",
    "        \"Platform\": platform.platform(),\n",
    "        \"Docker Version\": None,\n",
    "        \"Node Version\": None,\n",
    "        \"NPM Version\": None\n",
    "    }\n",
    "    \n",
    "    try:\n",
    "        results[\"Docker Version\"] = subprocess.check_output(\n",
    "            [\"docker\", \"--version\"], \n",
    "            stderr=subprocess.STDOUT\n",
    "        ).decode('utf-8').strip()\n",
    "    except:\n",
    "        results[\"Docker Version\"] = \"Not installed or not accessible\"\n",
    "    \n",
    "    try:\n",
    "        results[\"Node Version\"] = subprocess.check_output(\n",
    "            [\"node\", \"--version\"], \n",
    "            stderr=subprocess.STDOUT\n",
    "        ).decode('utf-8').strip()\n",
    "    except:\n",
    "        results[\"Node Version\"] = \"Not installed or not accessible\"\n",
    "    \n",
    "    try:\n",
    "        results[\"NPM Version\"] = subprocess.check_output(\n",
    "            [\"npm\", \"--version\"], \n",
    "            stderr=subprocess.STDOUT\n",
    "        ).decode('utf-8').strip()\n",
    "    except:\n",
    "        results[\"NPM Version\"] = \"Not installed or not accessible\"\n",
    "    \n",
    "    return results\n",
    "\n",
    "env_check = check_environment()\n",
    "for key, value in env_check.items():\n",
    "    print(f\"{key}: {value}\")"
   ]
  },
  {
   "cell_type": "markdown",
   "id": "6eedbbcd",
   "metadata": {},
   "source": [
    "### Verifying Application Functionality\n",
    "\n",
    "After checking that the environment is set up correctly, you should verify that the application itself works as expected. This might involve:\n",
    "\n",
    "1. Running test suites\n",
    "2. Making API requests to services\n",
    "3. Verifying database connections\n",
    "4. Checking that UI components render correctly\n",
    "\n",
    "Here's a simple example of testing an endpoint:"
   ]
  },
  {
   "cell_type": "code",
   "execution_count": null,
   "id": "987edd6a",
   "metadata": {},
   "outputs": [],
   "source": [
    "import requests\n",
    "import json\n",
    "\n",
    "def test_api_endpoint(url):\n",
    "    try:\n",
    "        response = requests.get(url)\n",
    "        print(f\"Status Code: {response.status_code}\")\n",
    "        if response.status_code == 200:\n",
    "            print(\"Response Content:\")\n",
    "            try:\n",
    "                print(json.dumps(response.json(), indent=2))\n",
    "            except:\n",
    "                print(response.text[:500] + \"...\" if len(response.text) > 500 else response.text)\n",
    "        else:\n",
    "            print(f\"Error: Received status code {response.status_code}\")\n",
    "    except Exception as e:\n",
    "        print(f\"Error connecting to {url}: {str(e)}\")\n",
    "\n",
    "# Example usage - replace with actual endpoint\n",
    "# test_api_endpoint(\"http://localhost:3000/api/status\")\n",
    "print(\"Uncomment and update the example with an actual endpoint to test\")"
   ]
  },
  {
   "cell_type": "markdown",
   "id": "0b10c450",
   "metadata": {},
   "source": [
    "## Conclusion\n",
    "\n",
    "In this notebook, we've covered:\n",
    "\n",
    "1. The purpose and process of `npm run setup`\n",
    "2. Understanding Docker build processes and multi-stage builds\n",
    "3. Techniques for analyzing and diagnosing build errors\n",
    "4. Methods to handle network issues during package installation\n",
    "5. How to verify that the environment is correctly set up\n",
    "\n",
    "By understanding these aspects, you'll be better equipped to troubleshoot and resolve issues that may arise during the setup process for the QI v2 LLM project."
   ]
  }
 ],
 "metadata": {
  "language_info": {
   "name": "python"
  }
 },
 "nbformat": 4,
 "nbformat_minor": 5
}
